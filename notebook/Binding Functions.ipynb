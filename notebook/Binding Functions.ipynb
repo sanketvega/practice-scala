{
 "cells": [
  {
   "cell_type": "markdown",
   "metadata": {},
   "source": [
    "This codes are from a book **[Functional Programming Simplified]** written by *Alvin Alexander*"
   ]
  },
  {
   "cell_type": "code",
   "execution_count": null,
   "metadata": {},
   "outputs": [],
   "source": [
    "def f(a:Int): Int = a*2\n",
    "def g(a:Int): Int = a*3"
   ]
  },
  {
   "cell_type": "code",
   "execution_count": null,
   "metadata": {},
   "outputs": [],
   "source": [
    "val x = g(f(100))\n",
    "println(x)"
   ]
  },
  {
   "cell_type": "markdown",
   "metadata": {},
   "source": [
    "If the output of f is (Int, String)"
   ]
  },
  {
   "cell_type": "code",
   "execution_count": 4,
   "metadata": {},
   "outputs": [
    {
     "data": {
      "text/plain": [
       "defined \u001b[32mfunction\u001b[39m \u001b[36mf\u001b[39m\r\n",
       "defined \u001b[32mfunction\u001b[39m \u001b[36mg\u001b[39m\r\n",
       "defined \u001b[32mfunction\u001b[39m \u001b[36mh\u001b[39m"
      ]
     },
     "execution_count": 4,
     "metadata": {},
     "output_type": "execute_result"
    }
   ],
   "source": [
    "def f(a: Int): (Int, String) = {\n",
    "    val result = a*2\n",
    "    (result, s\"\\nf result: $result.\")\n",
    "}\n",
    "\n",
    "def g(a: Int): (Int, String) = {\n",
    "    val result = a*3\n",
    "    (result, s\"\\ng result: $result.\")\n",
    "}\n",
    "\n",
    "def h(a: Int): (Int, String) = {\n",
    "    val result = a*4\n",
    "    (result, s\"\\nh result: $result.\")\n",
    "}"
   ]
  },
  {
   "cell_type": "code",
   "execution_count": null,
   "metadata": {},
   "outputs": [],
   "source": [
    "val (fInt, fString) = f(100)\n",
    "val (gInt, gString) = g(fInt)"
   ]
  },
  {
   "cell_type": "code",
   "execution_count": null,
   "metadata": {},
   "outputs": [],
   "source": [
    "val debug = fString + \"\" + gString\n",
    "println(s\"result: $gInt, debug: $debug\")"
   ]
  },
  {
   "cell_type": "markdown",
   "metadata": {},
   "source": [
    "While this approach works for this simple case, imagine what your code will look like when you need to string many more functions together. That would be an awful lot of manually written (and error-prone) code. We can do better."
   ]
  },
  {
   "cell_type": "markdown",
   "metadata": {},
   "source": [
    "## Bind Function"
   ]
  },
  {
   "cell_type": "code",
   "execution_count": null,
   "metadata": {},
   "outputs": [],
   "source": [
    "def bind(fun: (Int) => (Int, String),\n",
    "         tup: Tuple2[Int, String]): (Int, String) = \n",
    "{\n",
    "    val (intResult, stringResult) = fun(tup._1)\n",
    "    (intResult, tup._2 + stringResult)\n",
    "}"
   ]
  },
  {
   "cell_type": "code",
   "execution_count": null,
   "metadata": {},
   "outputs": [],
   "source": [
    "val fResult = f(100)\n",
    "val gResult = bind(g, fResult)\n",
    "val hResult = bind(h, gResult)"
   ]
  },
  {
   "cell_type": "code",
   "execution_count": null,
   "metadata": {},
   "outputs": [],
   "source": [
    "println(s\"result: ${hResult._1}, debug: ${hResult._2}\")"
   ]
  },
  {
   "cell_type": "markdown",
   "metadata": {},
   "source": [
    "If there’s anything bad to say about bind, it’s that it looks like it’s dying to be used in a for expression, but because bind doesn’t have methods like map and flatMap, it won’t work that way."
   ]
  },
  {
   "cell_type": "markdown",
   "metadata": {},
   "source": [
    "## Using a “Wrapper” Class in a for Expression"
   ]
  },
  {
   "cell_type": "code",
   "execution_count": null,
   "metadata": {},
   "outputs": [],
   "source": [
    "class Wrapper[Int](value:Int) {\n",
    "    def map(f: Int => Int): Wrapper[Int] = {\n",
    "        val newInt = f(value)\n",
    "        new Wrapper(newInt)\n",
    "    }\n",
    "    def flatMap(f: Int => Wrapper[Int]): Wrapper[Int] = f(value)\n",
    "    \n",
    "    override def toString = value.toString\n",
    "}"
   ]
  },
  {
   "cell_type": "code",
   "execution_count": null,
   "metadata": {},
   "outputs": [],
   "source": [
    "val result: Wrapper[Int] = for {\n",
    "    a <- new Wrapper(1)\n",
    "    b <- new Wrapper(2)\n",
    "    c <- new Wrapper(3)\n",
    "} yield a+b+c"
   ]
  },
  {
   "cell_type": "markdown",
   "metadata": {},
   "source": [
    "## Generic Code"
   ]
  },
  {
   "cell_type": "code",
   "execution_count": null,
   "metadata": {},
   "outputs": [],
   "source": [
    "class Wrapper[A](value: A) {\n",
    "    def map[B](f: A => B): Wrapper[B] = {\n",
    "        val newInt = f(value)\n",
    "        new Wrapper(newInt)\n",
    "    }\n",
    "    def flatMap[B](f: A => Wrapper[B]): Wrapper[B] = f(value)\n",
    "    \n",
    "    override def toString = value.toString\n",
    "}"
   ]
  },
  {
   "cell_type": "code",
   "execution_count": null,
   "metadata": {},
   "outputs": [],
   "source": [
    "val intResult: Wrapper[Int] = for {\n",
    "    a <- new Wrapper(1)\n",
    "    b <- new Wrapper(2)\n",
    "    c <- new Wrapper(3)\n",
    "} yield a+b+c"
   ]
  },
  {
   "cell_type": "code",
   "execution_count": null,
   "metadata": {},
   "outputs": [],
   "source": [
    "val stringResult: Wrapper[String] = for {\n",
    "    a <- new Wrapper(\"a\")\n",
    "    b <- new Wrapper(\"b\")\n",
    "    c <- new Wrapper(\"c\")\n",
    "} yield a+b+c"
   ]
  },
  {
   "cell_type": "markdown",
   "metadata": {},
   "source": [
    "## Creating an apply method in a companion object"
   ]
  },
  {
   "cell_type": "code",
   "execution_count": 1,
   "metadata": {},
   "outputs": [
    {
     "data": {
      "text/plain": [
       "defined \u001b[32mclass\u001b[39m \u001b[36mWrapper\u001b[39m\r\n",
       "defined \u001b[32mobject\u001b[39m \u001b[36mWrapper\u001b[39m"
      ]
     },
     "execution_count": 1,
     "metadata": {},
     "output_type": "execute_result"
    }
   ],
   "source": [
    "// 1) make the Wrapper class constructor private\n",
    "class Wrapper[A] private (value: A) {\n",
    "    def map[B](f: A => B): Wrapper[B] = {\n",
    "        val newValue = f(value)\n",
    "        new Wrapper(newValue)\n",
    "    }\n",
    "    def flatMap[B](f: A => Wrapper[B]): Wrapper[B] = {\n",
    "        val newValue = f(value)\n",
    "        newValue\n",
    "    }\n",
    "    override def toString = value.toString\n",
    "}\n",
    "\n",
    "// 2)Create an object named Wrapper in the same file as the Wrapper class\n",
    "object Wrapper {\n",
    "    def apply[A](value: A): Wrapper[A] = new Wrapper(value)\n",
    "}"
   ]
  },
  {
   "cell_type": "code",
   "execution_count": 2,
   "metadata": {},
   "outputs": [
    {
     "data": {
      "text/plain": [
       "\u001b[36mintResult\u001b[39m: \u001b[32mWrapper\u001b[39m[\u001b[32mInt\u001b[39m] = 6"
      ]
     },
     "execution_count": 2,
     "metadata": {},
     "output_type": "execute_result"
    }
   ],
   "source": [
    "// 3) Create an apply method in the companion object with the appropriate signature\n",
    "val intResult = for {\n",
    "    a <- Wrapper(1)\n",
    "    b <- Wrapper(2)\n",
    "    c <- Wrapper(3)\n",
    "} yield a + b + c"
   ]
  },
  {
   "cell_type": "markdown",
   "metadata": {},
   "source": [
    "## Using bind in for expression"
   ]
  },
  {
   "cell_type": "code",
   "execution_count": 5,
   "metadata": {},
   "outputs": [
    {
     "data": {
      "text/plain": [
       "defined \u001b[32mclass\u001b[39m \u001b[36mDebuggable\u001b[39m"
      ]
     },
     "execution_count": 5,
     "metadata": {},
     "output_type": "execute_result"
    }
   ],
   "source": [
    "case class Debuggable(value: Int, message: String) {\n",
    "    def map(f: Int => Int): Debuggable = {\n",
    "        val nextValue = f(value)\n",
    "        Debuggable(nextValue, message)\n",
    "    }\n",
    "    \n",
    "    def flatMap(f: Int => Debuggable): Debuggable = {\n",
    "        val nextValue: Debuggable = f(value)\n",
    "        Debuggable(nextValue.value, message + \"\\n\" + nextValue.message)\n",
    "    }\n",
    "}"
   ]
  },
  {
   "cell_type": "code",
   "execution_count": 7,
   "metadata": {},
   "outputs": [
    {
     "data": {
      "text/plain": [
       "defined \u001b[32mfunction\u001b[39m \u001b[36mf\u001b[39m\r\n",
       "defined \u001b[32mfunction\u001b[39m \u001b[36mg\u001b[39m\r\n",
       "defined \u001b[32mfunction\u001b[39m \u001b[36mh\u001b[39m"
      ]
     },
     "execution_count": 7,
     "metadata": {},
     "output_type": "execute_result"
    }
   ],
   "source": [
    "def f(a: Int): Debuggable = {\n",
    "    val result = a * 2\n",
    "    val message = s\"f: a ($a) * 2 = $result.\"\n",
    "    Debuggable(result, message)\n",
    "}\n",
    "\n",
    "def g(a: Int): Debuggable = {\n",
    "    val result = a * 3\n",
    "    val message = s\"g: a ($a) * 3 = $result.\"\n",
    "    Debuggable(result, message)\n",
    "}\n",
    "\n",
    "def h(a: Int): Debuggable = {\n",
    "    val result = a * 4\n",
    "    val message = s\"h: a ($a) * 4 = $result.\"\n",
    "    Debuggable(result, message)\n",
    "}"
   ]
  },
  {
   "cell_type": "code",
   "execution_count": 8,
   "metadata": {},
   "outputs": [
    {
     "data": {
      "text/plain": [
       "\u001b[36mfinalResult\u001b[39m: \u001b[32mDebuggable\u001b[39m = \u001b[33mDebuggable\u001b[39m(\n",
       "  \u001b[32m2400\u001b[39m,\n",
       "  \u001b[32m\"\"\"\n",
       "f: a (100) * 2 = 200.  \n",
       "g: a (200) * 3 = 600.  \n",
       "h: a (600) * 4 = 2400.\n",
       "  \"\"\"\u001b[39m\n",
       ")"
      ]
     },
     "execution_count": 8,
     "metadata": {},
     "output_type": "execute_result"
    }
   ],
   "source": [
    "val finalResult = for {\n",
    "    fResult <- f(100)\n",
    "    gResult <- g(fResult)\n",
    "    hResult <- h(gResult)\n",
    "} yield hResult"
   ]
  }
 ],
 "metadata": {
  "kernelspec": {
   "display_name": "Scala",
   "language": "scala",
   "name": "scala"
  },
  "language_info": {
   "codemirror_mode": "text/x-scala",
   "file_extension": ".scala",
   "mimetype": "text/x-scala",
   "name": "scala211",
   "nbconvert_exporter": "script",
   "pygments_lexer": "scala",
   "version": "2.11.11"
  }
 },
 "nbformat": 4,
 "nbformat_minor": 2
}
